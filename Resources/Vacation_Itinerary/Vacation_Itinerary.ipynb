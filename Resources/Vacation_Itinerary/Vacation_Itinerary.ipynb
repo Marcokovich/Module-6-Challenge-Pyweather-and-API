{
 "cells": [
  {
   "cell_type": "markdown",
   "metadata": {},
   "source": [
    "## Deliverable 3. Create a Travel Itinerary Map."
   ]
  },
  {
   "cell_type": "code",
   "execution_count": 65,
   "metadata": {},
   "outputs": [],
   "source": [
    "# Dependencies and Setup\n",
    "import pandas as pd\n",
    "import requests\n",
    "import os\n",
    "import gmaps\n",
    "import numpy as np\n",
    "import random as rn\n",
    "# Import API key\n",
    "from config import g_key\n",
    "\n",
    "# Configure gmaps\n",
    "gmaps.configure(api_key=g_key)"
   ]
  },
  {
   "cell_type": "code",
   "execution_count": 66,
   "metadata": {},
   "outputs": [
    {
     "data": {
      "text/html": [
       "<div>\n",
       "<style scoped>\n",
       "    .dataframe tbody tr th:only-of-type {\n",
       "        vertical-align: middle;\n",
       "    }\n",
       "\n",
       "    .dataframe tbody tr th {\n",
       "        vertical-align: top;\n",
       "    }\n",
       "\n",
       "    .dataframe thead th {\n",
       "        text-align: right;\n",
       "    }\n",
       "</style>\n",
       "<table border=\"1\" class=\"dataframe\">\n",
       "  <thead>\n",
       "    <tr style=\"text-align: right;\">\n",
       "      <th></th>\n",
       "      <th>City_ID</th>\n",
       "      <th>City</th>\n",
       "      <th>Country</th>\n",
       "      <th>Max Temp</th>\n",
       "      <th>Current Description</th>\n",
       "      <th>Lat</th>\n",
       "      <th>Lng</th>\n",
       "      <th>Hotel Name</th>\n",
       "    </tr>\n",
       "  </thead>\n",
       "  <tbody>\n",
       "    <tr>\n",
       "      <th>0</th>\n",
       "      <td>0</td>\n",
       "      <td>Guerrero Negro</td>\n",
       "      <td>MX</td>\n",
       "      <td>54.10</td>\n",
       "      <td>clear sky</td>\n",
       "      <td>27.9769</td>\n",
       "      <td>-114.0611</td>\n",
       "      <td>Casa Laguna, Bed &amp; Breakfast</td>\n",
       "    </tr>\n",
       "    <tr>\n",
       "      <th>1</th>\n",
       "      <td>7</td>\n",
       "      <td>Beyneu</td>\n",
       "      <td>KZ</td>\n",
       "      <td>40.42</td>\n",
       "      <td>overcast clouds</td>\n",
       "      <td>45.3167</td>\n",
       "      <td>55.2000</td>\n",
       "      <td>NUR</td>\n",
       "    </tr>\n",
       "    <tr>\n",
       "      <th>2</th>\n",
       "      <td>8</td>\n",
       "      <td>Bluff</td>\n",
       "      <td>NZ</td>\n",
       "      <td>48.79</td>\n",
       "      <td>broken clouds</td>\n",
       "      <td>-46.6000</td>\n",
       "      <td>168.3333</td>\n",
       "      <td>Bluff Homestead - Guesthouse &amp; Campervan Park</td>\n",
       "    </tr>\n",
       "    <tr>\n",
       "      <th>3</th>\n",
       "      <td>9</td>\n",
       "      <td>Hit</td>\n",
       "      <td>IQ</td>\n",
       "      <td>56.10</td>\n",
       "      <td>scattered clouds</td>\n",
       "      <td>33.6416</td>\n",
       "      <td>42.8251</td>\n",
       "      <td>صالون زيرو</td>\n",
       "    </tr>\n",
       "    <tr>\n",
       "      <th>4</th>\n",
       "      <td>10</td>\n",
       "      <td>Rusera</td>\n",
       "      <td>IN</td>\n",
       "      <td>56.64</td>\n",
       "      <td>overcast clouds</td>\n",
       "      <td>25.7500</td>\n",
       "      <td>86.0333</td>\n",
       "      <td>Santosh Hotel&amp;Santosh resturent</td>\n",
       "    </tr>\n",
       "  </tbody>\n",
       "</table>\n",
       "</div>"
      ],
      "text/plain": [
       "   City_ID            City Country  Max Temp Current Description      Lat  \\\n",
       "0        0  Guerrero Negro      MX     54.10           clear sky  27.9769   \n",
       "1        7          Beyneu      KZ     40.42     overcast clouds  45.3167   \n",
       "2        8           Bluff      NZ     48.79       broken clouds -46.6000   \n",
       "3        9             Hit      IQ     56.10    scattered clouds  33.6416   \n",
       "4       10          Rusera      IN     56.64     overcast clouds  25.7500   \n",
       "\n",
       "        Lng                                     Hotel Name  \n",
       "0 -114.0611                   Casa Laguna, Bed & Breakfast  \n",
       "1   55.2000                                            NUR  \n",
       "2  168.3333  Bluff Homestead - Guesthouse & Campervan Park  \n",
       "3   42.8251                                     صالون زيرو  \n",
       "4   86.0333                Santosh Hotel&Santosh resturent  "
      ]
     },
     "execution_count": 66,
     "metadata": {},
     "output_type": "execute_result"
    }
   ],
   "source": [
    "# 1. Read the WeatherPy_vacation.csv into a DataFrame.\n",
    "file_to_read = os.path.join(\"..\", \"Vacation_Search\", \"WeatherPy_vacation.csv\")\n",
    "clean_hotel_df = pd.read_csv(file_to_read)\n",
    "# vacation_df = pd.read_csv(\"Vacation_Search/WeatherPy_vacation.csv\")\n",
    "clean_hotel_df.head()"
   ]
  },
  {
   "cell_type": "code",
   "execution_count": 67,
   "metadata": {},
   "outputs": [],
   "source": [
    "# 2. Using the template add the city name, the country code, the weather description and maximum temperature for the city.\n",
    "info_box_template = \"\"\"\n",
    "<dl>\n",
    "<dt>Hotel Name</dt><dd>{Hotel Name}</dd>\n",
    "<dt>City</dt><dd>{City}</dd>\n",
    "<dt>Country</dt><dd>{Country}</dd>\n",
    "<dt>Max Temp</dt><dd>{Max Temp} °F</dd>\n",
    "</dl>\n",
    "\"\"\"\n",
    "\n",
    "# 3a. Get the data from each row and add it to the formatting template and store the data in a list.\n",
    "hotel_info = [info_box_template.format(**row) for index, row in clean_hotel_df.iterrows()]\n",
    "\n",
    "# 3b. Get the latitude and longitude from each row and store in a new DataFrame.\n",
    "locations = clean_hotel_df[[\"Lat\", \"Lng\"]]"
   ]
  },
  {
   "cell_type": "code",
   "execution_count": 68,
   "metadata": {},
   "outputs": [
    {
     "data": {
      "application/vnd.jupyter.widget-view+json": {
       "model_id": "81e2a455b5ef4e9dab43d74b4af89395",
       "version_major": 2,
       "version_minor": 0
      },
      "text/plain": [
       "Figure(layout=FigureLayout(height='420px'))"
      ]
     },
     "metadata": {},
     "output_type": "display_data"
    }
   ],
   "source": [
    "# 4a. Add a marker layer for each city to the map.\n",
    "max_temp = clean_hotel_df[\"Max Temp\"]\n",
    "fig = gmaps.figure(center=(30.0, 31.0), zoom_level=1.5)\n",
    "marker_layer = gmaps.marker_layer(locations, info_box_content=hotel_info)\n",
    "fig.add_layer(marker_layer)\n",
    "# 4b. Display the figure\n",
    "fig\n"
   ]
  },
  {
   "cell_type": "code",
   "execution_count": 122,
   "metadata": {},
   "outputs": [
    {
     "name": "stdout",
     "output_type": "stream",
     "text": [
      "['AU', 'JP', 'IN', 'NZ', 'MX', 'ZA', 'CL', 'FR', 'PT', 'AR', 'CN', 'ES', 'GB']\n",
      "Country of choice is : FR\n"
     ]
    }
   ],
   "source": [
    "#I'm indecisive so I'm going to pick 4 random hotels from a random country with at least 4 hotels\n",
    "\n",
    "# countries = []\n",
    "# countries = clean_hotel_df[\"Country\"].value_counts()\n",
    "# countries\n",
    "# for country in countries.index:\n",
    "#     if countries[country] < 4:\n",
    "#         #print(f\"{country} : {countries[country]}\")\n",
    "#         countries.drop(country,inplace=True)\n",
    "# #getting a list of eligable countries \n",
    "# if countries.size < 4:\n",
    "#     print(\"Somehow, there are no countries with 4 or more hotels.\")\n",
    "# countries = countries.index.tolist()\n",
    "# #assuming the traveler is american.\n",
    "# if \"US\" in countries:\n",
    "#     countries.remove(\"US\")\n",
    "# country_of_choice = rn.choice(countries)\n",
    "# print(countries)\n",
    "\n",
    "#I'm settling on France because I had french toast for breakfast\n",
    "country_of_choice = \"FR\"\n",
    "print(f\"Country of choice is : {country_of_choice}\")"
   ]
  },
  {
   "cell_type": "code",
   "execution_count": 141,
   "metadata": {},
   "outputs": [
    {
     "data": {
      "text/html": [
       "<div>\n",
       "<style scoped>\n",
       "    .dataframe tbody tr th:only-of-type {\n",
       "        vertical-align: middle;\n",
       "    }\n",
       "\n",
       "    .dataframe tbody tr th {\n",
       "        vertical-align: top;\n",
       "    }\n",
       "\n",
       "    .dataframe thead th {\n",
       "        text-align: right;\n",
       "    }\n",
       "</style>\n",
       "<table border=\"1\" class=\"dataframe\">\n",
       "  <thead>\n",
       "    <tr style=\"text-align: right;\">\n",
       "      <th></th>\n",
       "      <th>City_ID</th>\n",
       "      <th>City</th>\n",
       "      <th>Country</th>\n",
       "      <th>Max Temp</th>\n",
       "      <th>Current Description</th>\n",
       "      <th>Lat</th>\n",
       "      <th>Lng</th>\n",
       "      <th>Hotel Name</th>\n",
       "    </tr>\n",
       "  </thead>\n",
       "  <tbody>\n",
       "    <tr>\n",
       "      <th>31</th>\n",
       "      <td>119</td>\n",
       "      <td>Challans</td>\n",
       "      <td>FR</td>\n",
       "      <td>50.92</td>\n",
       "      <td>overcast clouds</td>\n",
       "      <td>46.8436</td>\n",
       "      <td>-1.8749</td>\n",
       "      <td>Citotel Le Challans</td>\n",
       "    </tr>\n",
       "    <tr>\n",
       "      <th>50</th>\n",
       "      <td>217</td>\n",
       "      <td>Pau</td>\n",
       "      <td>FR</td>\n",
       "      <td>55.44</td>\n",
       "      <td>broken clouds</td>\n",
       "      <td>43.4167</td>\n",
       "      <td>-0.5833</td>\n",
       "      <td>Le Kitch</td>\n",
       "    </tr>\n",
       "    <tr>\n",
       "      <th>93</th>\n",
       "      <td>366</td>\n",
       "      <td>Tinqueux</td>\n",
       "      <td>FR</td>\n",
       "      <td>49.05</td>\n",
       "      <td>overcast clouds</td>\n",
       "      <td>49.2500</td>\n",
       "      <td>3.9833</td>\n",
       "      <td>L'Assiette Champenoise</td>\n",
       "    </tr>\n",
       "    <tr>\n",
       "      <th>122</th>\n",
       "      <td>470</td>\n",
       "      <td>Saint-Martin-De-Crau</td>\n",
       "      <td>FR</td>\n",
       "      <td>57.99</td>\n",
       "      <td>clear sky</td>\n",
       "      <td>43.6395</td>\n",
       "      <td>4.8127</td>\n",
       "      <td>Hotel Residence La Transhumance</td>\n",
       "    </tr>\n",
       "    <tr>\n",
       "      <th>123</th>\n",
       "      <td>473</td>\n",
       "      <td>Vesoul</td>\n",
       "      <td>FR</td>\n",
       "      <td>46.35</td>\n",
       "      <td>overcast clouds</td>\n",
       "      <td>47.5833</td>\n",
       "      <td>5.8333</td>\n",
       "      <td>Camping Municipal La Louvière</td>\n",
       "    </tr>\n",
       "    <tr>\n",
       "      <th>145</th>\n",
       "      <td>556</td>\n",
       "      <td>Sainte-Maxime</td>\n",
       "      <td>FR</td>\n",
       "      <td>59.02</td>\n",
       "      <td>scattered clouds</td>\n",
       "      <td>43.3000</td>\n",
       "      <td>6.6333</td>\n",
       "      <td>Hôtel Les Jardins De Sainte Maxime</td>\n",
       "    </tr>\n",
       "  </tbody>\n",
       "</table>\n",
       "</div>"
      ],
      "text/plain": [
       "     City_ID                  City Country  Max Temp Current Description  \\\n",
       "31       119              Challans      FR     50.92     overcast clouds   \n",
       "50       217                   Pau      FR     55.44       broken clouds   \n",
       "93       366              Tinqueux      FR     49.05     overcast clouds   \n",
       "122      470  Saint-Martin-De-Crau      FR     57.99           clear sky   \n",
       "123      473                Vesoul      FR     46.35     overcast clouds   \n",
       "145      556         Sainte-Maxime      FR     59.02    scattered clouds   \n",
       "\n",
       "         Lat     Lng                          Hotel Name  \n",
       "31   46.8436 -1.8749                 Citotel Le Challans  \n",
       "50   43.4167 -0.5833                            Le Kitch  \n",
       "93   49.2500  3.9833              L'Assiette Champenoise  \n",
       "122  43.6395  4.8127     Hotel Residence La Transhumance  \n",
       "123  47.5833  5.8333       Camping Municipal La Louvière  \n",
       "145  43.3000  6.6333  Hôtel Les Jardins De Sainte Maxime  "
      ]
     },
     "execution_count": 141,
     "metadata": {},
     "output_type": "execute_result"
    }
   ],
   "source": [
    "vacation_df = clean_hotel_df.loc[(clean_hotel_df['Country'] == country_of_choice)]\n",
    "# I used random cities to find a layout I liked\n",
    "# vacation_df = vacation_hotels_df.sample(n=4)\n",
    "# #resetting index for convenience\n",
    "# vacation_df.index = np.arange(1, len(vacation_df) + 1)\n",
    "vacation_df"
   ]
  },
  {
   "cell_type": "code",
   "execution_count": 147,
   "metadata": {},
   "outputs": [
    {
     "data": {
      "text/html": [
       "<div>\n",
       "<style scoped>\n",
       "    .dataframe tbody tr th:only-of-type {\n",
       "        vertical-align: middle;\n",
       "    }\n",
       "\n",
       "    .dataframe tbody tr th {\n",
       "        vertical-align: top;\n",
       "    }\n",
       "\n",
       "    .dataframe thead th {\n",
       "        text-align: right;\n",
       "    }\n",
       "</style>\n",
       "<table border=\"1\" class=\"dataframe\">\n",
       "  <thead>\n",
       "    <tr style=\"text-align: right;\">\n",
       "      <th></th>\n",
       "      <th>City_ID</th>\n",
       "      <th>City</th>\n",
       "      <th>Country</th>\n",
       "      <th>Max Temp</th>\n",
       "      <th>Current Description</th>\n",
       "      <th>Lat</th>\n",
       "      <th>Lng</th>\n",
       "      <th>Hotel Name</th>\n",
       "    </tr>\n",
       "  </thead>\n",
       "  <tbody>\n",
       "    <tr>\n",
       "      <th>31</th>\n",
       "      <td>119</td>\n",
       "      <td>Challans</td>\n",
       "      <td>FR</td>\n",
       "      <td>50.92</td>\n",
       "      <td>overcast clouds</td>\n",
       "      <td>46.8436</td>\n",
       "      <td>-1.8749</td>\n",
       "      <td>Citotel Le Challans</td>\n",
       "    </tr>\n",
       "  </tbody>\n",
       "</table>\n",
       "</div>"
      ],
      "text/plain": [
       "    City_ID      City Country  Max Temp Current Description      Lat     Lng  \\\n",
       "31      119  Challans      FR     50.92     overcast clouds  46.8436 -1.8749   \n",
       "\n",
       "             Hotel Name  \n",
       "31  Citotel Le Challans  "
      ]
     },
     "execution_count": 147,
     "metadata": {},
     "output_type": "execute_result"
    }
   ],
   "source": [
    "# From the map above pick 4 cities and create a vacation itinerary route to travel between the four cities. \n",
    "# 5. Create DataFrames for each city by filtering the 'vacation_df' using the loc method. \n",
    "# Hint: The starting and ending city should be the same city.\n",
    "\n",
    "vacation_start = vacation_df.loc[vacation_df['City'] == \"Tinqueux\"]\n",
    "vacation_end = vacation_df.loc[vacation_df['City'] == \"Tinqueux\"]\n",
    "vacation_stop1 = vacation_df.loc[vacation_df['City'] == \"Saint-Martin-De-Crau\"]\n",
    "vacation_stop2 = vacation_df.loc[vacation_df['City'] == \"Pau\"]\n",
    "vacation_stop3 = vacation_df.loc[vacation_df['City'] == \"Challans\"]\n",
    "vacation_stop3"
   ]
  },
  {
   "cell_type": "code",
   "execution_count": 153,
   "metadata": {},
   "outputs": [
    {
     "name": "stdout",
     "output_type": "stream",
     "text": [
      "49.25\n"
     ]
    }
   ],
   "source": [
    "test = vacation_start.to_numpy()\n",
    "print(test[0][5])"
   ]
  },
  {
   "cell_type": "code",
   "execution_count": 156,
   "metadata": {},
   "outputs": [],
   "source": [
    "# 6. Get the latitude-longitude pairs as tuples from each city DataFrame using the to_numpy function and list indexing.\n",
    "start = (vacation_start.to_numpy()[0][5],vacation_start.to_numpy()[0][6])\n",
    "end = (vacation_end.to_numpy()[0][5],vacation_end.to_numpy()[0][6])\n",
    "stop1 = (vacation_stop1.to_numpy()[0][5],vacation_stop1.to_numpy()[0][6])\n",
    "stop2 = (vacation_stop2.to_numpy()[0][5],vacation_stop2.to_numpy()[0][6])\n",
    "stop3 = (vacation_stop3.to_numpy()[0][5],vacation_stop3.to_numpy()[0][6])"
   ]
  },
  {
   "cell_type": "code",
   "execution_count": 161,
   "metadata": {
    "scrolled": false
   },
   "outputs": [
    {
     "data": {
      "application/vnd.jupyter.widget-view+json": {
       "model_id": "feeb569b6c174c549e616c587439f380",
       "version_major": 2,
       "version_minor": 0
      },
      "text/plain": [
       "Figure(layout=FigureLayout(height='420px'))"
      ]
     },
     "metadata": {},
     "output_type": "display_data"
    }
   ],
   "source": [
    "# 7. Create a direction layer map using the start and end latitude-longitude pairs,\n",
    "# and stop1, stop2, and stop3 as the waypoints. The travel_mode should be \"DRIVING\", \"BICYCLING\", or \"WALKING\".\n",
    "fig = gmaps.figure()\n",
    "vacation = gmaps.directions_layer(\n",
    "        start, start, waypoints=[stop1,stop2,stop3],\n",
    "        travel_mode='DRIVING')\n",
    "fig.add_layer(vacation)\n",
    "fig\n"
   ]
  },
  {
   "cell_type": "code",
   "execution_count": 158,
   "metadata": {},
   "outputs": [
    {
     "data": {
      "text/html": [
       "<div>\n",
       "<style scoped>\n",
       "    .dataframe tbody tr th:only-of-type {\n",
       "        vertical-align: middle;\n",
       "    }\n",
       "\n",
       "    .dataframe tbody tr th {\n",
       "        vertical-align: top;\n",
       "    }\n",
       "\n",
       "    .dataframe thead th {\n",
       "        text-align: right;\n",
       "    }\n",
       "</style>\n",
       "<table border=\"1\" class=\"dataframe\">\n",
       "  <thead>\n",
       "    <tr style=\"text-align: right;\">\n",
       "      <th></th>\n",
       "      <th>City_ID</th>\n",
       "      <th>City</th>\n",
       "      <th>Country</th>\n",
       "      <th>Max Temp</th>\n",
       "      <th>Current Description</th>\n",
       "      <th>Lat</th>\n",
       "      <th>Lng</th>\n",
       "      <th>Hotel Name</th>\n",
       "    </tr>\n",
       "  </thead>\n",
       "  <tbody>\n",
       "    <tr>\n",
       "      <th>0</th>\n",
       "      <td>366</td>\n",
       "      <td>Tinqueux</td>\n",
       "      <td>FR</td>\n",
       "      <td>49.05</td>\n",
       "      <td>overcast clouds</td>\n",
       "      <td>49.2500</td>\n",
       "      <td>3.9833</td>\n",
       "      <td>L'Assiette Champenoise</td>\n",
       "    </tr>\n",
       "    <tr>\n",
       "      <th>1</th>\n",
       "      <td>470</td>\n",
       "      <td>Saint-Martin-De-Crau</td>\n",
       "      <td>FR</td>\n",
       "      <td>57.99</td>\n",
       "      <td>clear sky</td>\n",
       "      <td>43.6395</td>\n",
       "      <td>4.8127</td>\n",
       "      <td>Hotel Residence La Transhumance</td>\n",
       "    </tr>\n",
       "    <tr>\n",
       "      <th>2</th>\n",
       "      <td>217</td>\n",
       "      <td>Pau</td>\n",
       "      <td>FR</td>\n",
       "      <td>55.44</td>\n",
       "      <td>broken clouds</td>\n",
       "      <td>43.4167</td>\n",
       "      <td>-0.5833</td>\n",
       "      <td>Le Kitch</td>\n",
       "    </tr>\n",
       "    <tr>\n",
       "      <th>3</th>\n",
       "      <td>119</td>\n",
       "      <td>Challans</td>\n",
       "      <td>FR</td>\n",
       "      <td>50.92</td>\n",
       "      <td>overcast clouds</td>\n",
       "      <td>46.8436</td>\n",
       "      <td>-1.8749</td>\n",
       "      <td>Citotel Le Challans</td>\n",
       "    </tr>\n",
       "  </tbody>\n",
       "</table>\n",
       "</div>"
      ],
      "text/plain": [
       "   City_ID                  City Country  Max Temp Current Description  \\\n",
       "0      366              Tinqueux      FR     49.05     overcast clouds   \n",
       "1      470  Saint-Martin-De-Crau      FR     57.99           clear sky   \n",
       "2      217                   Pau      FR     55.44       broken clouds   \n",
       "3      119              Challans      FR     50.92     overcast clouds   \n",
       "\n",
       "       Lat     Lng                       Hotel Name  \n",
       "0  49.2500  3.9833           L'Assiette Champenoise  \n",
       "1  43.6395  4.8127  Hotel Residence La Transhumance  \n",
       "2  43.4167 -0.5833                         Le Kitch  \n",
       "3  46.8436 -1.8749              Citotel Le Challans  "
      ]
     },
     "execution_count": 158,
     "metadata": {},
     "output_type": "execute_result"
    }
   ],
   "source": [
    "# 8. To create a marker layer map between the four cities.\n",
    "#  Combine the four city DataFrames into one DataFrame using the concat() function.\n",
    "itinerary_df = pd.concat([vacation_start,\n",
    "                          vacation_stop1,\n",
    "                          vacation_stop2,\n",
    "                          vacation_stop3],ignore_index=True)\n",
    "itinerary_df"
   ]
  },
  {
   "cell_type": "code",
   "execution_count": 159,
   "metadata": {},
   "outputs": [],
   "source": [
    "# 9 Using the template add city name, the country code, the weather description and maximum temperature for the city. \n",
    "info_box_template = \"\"\"\n",
    "<dl>\n",
    "<dt>City</dt><dd>{City}</dd>\n",
    "<dt>Country</dt><dd>{Country}</dd>\n",
    "<dt>Max Temp</dt><dd>{Max Temp} °F</dd>\n",
    "</dl>\n",
    "\"\"\"\n",
    "\n",
    "# 10a Get the data from each row and add it to the formatting template and store the data in a list.\n",
    "hotel_info = [info_box_template.format(**row) for index, row in itinerary_df.iterrows()]\n",
    "\n",
    "# 10b. Get the latitude and longitude from each row and store in a new DataFrame.\n",
    "locations = itinerary_df[[\"Lat\", \"Lng\"]]"
   ]
  },
  {
   "cell_type": "code",
   "execution_count": 162,
   "metadata": {
    "scrolled": false
   },
   "outputs": [
    {
     "data": {
      "application/vnd.jupyter.widget-view+json": {
       "model_id": "99800ba9d36c4532885b8fd3bd253fcb",
       "version_major": 2,
       "version_minor": 0
      },
      "text/plain": [
       "Figure(layout=FigureLayout(height='420px'))"
      ]
     },
     "metadata": {},
     "output_type": "display_data"
    }
   ],
   "source": [
    "# 11a. Add a marker layer for each city to the map.\n",
    "fig = gmaps.figure()\n",
    "marker_layer = gmaps.marker_layer(locations, info_box_content=hotel_info)\n",
    "fig.add_layer(marker_layer)\n",
    "# 11b. Display the figure\n",
    "fig"
   ]
  },
  {
   "cell_type": "code",
   "execution_count": null,
   "metadata": {},
   "outputs": [],
   "source": []
  }
 ],
 "metadata": {
  "kernelspec": {
   "display_name": "Python 3 (ipykernel)",
   "language": "python",
   "name": "python3"
  },
  "language_info": {
   "codemirror_mode": {
    "name": "ipython",
    "version": 3
   },
   "file_extension": ".py",
   "mimetype": "text/x-python",
   "name": "python",
   "nbconvert_exporter": "python",
   "pygments_lexer": "ipython3",
   "version": "3.9.7"
  },
  "latex_envs": {
   "LaTeX_envs_menu_present": true,
   "autoclose": false,
   "autocomplete": true,
   "bibliofile": "biblio.bib",
   "cite_by": "apalike",
   "current_citInitial": 1,
   "eqLabelWithNumbers": true,
   "eqNumInitial": 1,
   "hotkeys": {
    "equation": "Ctrl-E",
    "itemize": "Ctrl-I"
   },
   "labels_anchors": false,
   "latex_user_defs": false,
   "report_style_numbering": false,
   "user_envs_cfg": false
  }
 },
 "nbformat": 4,
 "nbformat_minor": 2
}
